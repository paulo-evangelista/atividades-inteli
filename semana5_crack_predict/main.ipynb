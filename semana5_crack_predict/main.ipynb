{
 "cells": [
  {
   "attachments": {},
   "cell_type": "markdown",
   "metadata": {},
   "source": [
    "# Treinamento do modelo\n",
    "\n",
    "primeiro, puxamos do Roboflow um dataset já pronto para o treinamento. Está parte foi feita no Google Collab"
   ]
  },
  {
   "cell_type": "code",
   "execution_count": null,
   "metadata": {},
   "outputs": [],
   "source": [
    "from roboflow import Roboflow\n",
    "\n",
    "rf = Roboflow(api_key=\"**************\")\n",
    "project = rf.workspace(\"university-****\").project(\"crack-bphdr\")\n",
    "dataset = project.version(2).download(\"yolov8\")\n"
   ]
  },
  {
   "attachments": {},
   "cell_type": "markdown",
   "metadata": {},
   "source": [
    "Agora treinamos o YOLOv8 com o dataset. 15 épocas com batch de 64 foi o sweetspot que encontrei. Essa parte também foi executada no Collab e levou cerca de 20 minutos."
   ]
  },
  {
   "cell_type": "code",
   "execution_count": null,
   "metadata": {},
   "outputs": [],
   "source": [
    "%yolo train model=yolov8n.pt data=/content/crack-2/data.yaml epochs=15 batch=64 lr0=0.01"
   ]
  },
  {
   "attachments": {},
   "cell_type": "markdown",
   "metadata": {},
   "source": [
    "# Utilização da AI\n",
    "\n",
    "Nessa célula, podemos utilizar o modelo para analizar uma imagem que temos no computador. Esse código tem que ser executado localmente, mas o modelo que utilizamos é o modelo gerado no Collab (model.pt) "
   ]
  },
  {
   "cell_type": "code",
   "execution_count": null,
   "metadata": {},
   "outputs": [],
   "source": [
    "from ultralytics import YOLO\n",
    "import cv2 as cv\n",
    "import time\n",
    "\n",
    "\n",
    "model = YOLO(\"./model.pt\")\n",
    "result = model.predict(\"./crack1.jpg\")\n",
    "\n",
    "cv.imshow(\"results\", result[0].plot())\n",
    "\n",
    "cv.waitKey(0)\n",
    "\n",
    "cv.destroyAllWindows()"
   ]
  },
  {
   "attachments": {},
   "cell_type": "markdown",
   "metadata": {},
   "source": [
    "E aqui utilizamos a webcam e identificamos as rachaduras on the fly"
   ]
  },
  {
   "cell_type": "code",
   "execution_count": null,
   "metadata": {},
   "outputs": [],
   "source": [
    "from ultralytics import YOLO\n",
    "import cv2 as cv\n",
    "\n",
    "video_capture = cv.VideoCapture(0)\n",
    "model = YOLO(\"./model.pt\")\n",
    "\n",
    "while True:\n",
    "    _, frame = video_capture.read()\n",
    "    result = model.predict(frame, conf=0.6)\n",
    "    cv.imshow(\"results\", result[0].plot())\n",
    "\n",
    "    if cv.waitKey(1) & 0xFF == ord('q'):\n",
    "        break\n",
    "\n",
    "video_capture.release()\n",
    "cv.destroyAllWindows()"
   ]
  }
 ],
 "metadata": {
  "kernelspec": {
   "display_name": "Python 3",
   "language": "python",
   "name": "python3"
  },
  "language_info": {
   "codemirror_mode": {
    "name": "ipython",
    "version": 3
   },
   "file_extension": ".py",
   "mimetype": "text/x-python",
   "name": "python",
   "nbconvert_exporter": "python",
   "pygments_lexer": "ipython3",
   "version": "3.10.6"
  },
  "orig_nbformat": 4
 },
 "nbformat": 4,
 "nbformat_minor": 2
}
