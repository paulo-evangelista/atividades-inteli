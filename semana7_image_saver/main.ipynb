{
 "cells": [
  {
   "cell_type": "code",
   "execution_count": 3,
   "metadata": {},
   "outputs": [],
   "source": [
    "import cv2\n",
    "import requests\n",
    "import numpy as np"
   ]
  },
  {
   "cell_type": "code",
   "execution_count": 13,
   "metadata": {},
   "outputs": [
    {
     "name": "stdout",
     "output_type": "stream",
     "text": [
      " ID para acesso da imagem --> 6151\n"
     ]
    }
   ],
   "source": [
    "# Inicializa a câmera\n",
    "cap = cv2.VideoCapture(0)\n",
    "\n",
    "# Captura a imagem da câmera\n",
    "ret, frame = cap.read()\n",
    "\n",
    "# Verifica se a captura foi bem-sucedida\n",
    "if not ret:\n",
    "    print(\"Erro ao capturar imagem da webcam.\")\n",
    "    exit()\n",
    "\n",
    "# Codifica a imagem em formato JPEG\n",
    "_, img_encoded = cv2.imencode('.jpg', frame)\n",
    "\n",
    "# Cria um array de bytes a partir da imagem codificada\n",
    "image_bytes = img_encoded.tobytes()\n",
    "\n",
    "# Libera a câmera\n",
    "cap.release()\n",
    "\n",
    "# Define a URL de destino para enviar a imagem\n",
    "url = 'http://localhost:8000/upload' \n",
    "\n",
    "# Define os headers da requisição POST\n",
    "headers = {'Content-Type': 'image/jpeg'}\n",
    "\n",
    "# Envia a imagem via POST\n",
    "response = requests.post(url, data=image_bytes, headers=headers)\n",
    "\n",
    "# Verifica a resposta do servidor\n",
    "if response.status_code == 200:\n",
    "    print(f' ID para acesso da imagem --> {response.json()[\"id\"]}')\n",
    "else:\n",
    "    print(\"Erro ao enviar a imagem:\", response.status_code)\n"
   ]
  }
 ],
 "metadata": {
  "kernelspec": {
   "display_name": "Python 3",
   "language": "python",
   "name": "python3"
  },
  "language_info": {
   "codemirror_mode": {
    "name": "ipython",
    "version": 3
   },
   "file_extension": ".py",
   "mimetype": "text/x-python",
   "name": "python",
   "nbconvert_exporter": "python",
   "pygments_lexer": "ipython3",
   "version": "3.10.6"
  },
  "orig_nbformat": 4
 },
 "nbformat": 4,
 "nbformat_minor": 2
}
